{
 "cells": [
  {
   "cell_type": "markdown",
   "metadata": {},
   "source": [
    "## Import des librairies ##"
   ]
  },
  {
   "cell_type": "code",
   "execution_count": 1,
   "metadata": {},
   "outputs": [
    {
     "name": "stdout",
     "output_type": "stream",
     "text": [
      "TensorFlow 1.10.1, Keras 2.1.6-tf, numpy 1.14.5, pandas 0.23.4\n"
     ]
    }
   ],
   "source": [
    "%matplotlib inline\n",
    "import numpy as np\n",
    "import pandas as pd\n",
    "import re as re\n",
    "\n",
    "import matplotlib.pyplot as plt\n",
    "from sklearn.model_selection import StratifiedShuffleSplit\n",
    "\n",
    "\n",
    "import tensorflow as tf\n",
    "from tensorflow import keras\n",
    "from tensorflow.keras import regularizers\n",
    "from tensorflow.keras.callbacks import History,LearningRateScheduler\n",
    "from  tensorflow.keras.layers import Dropout,Dense,Activation\n",
    "print('TensorFlow %s, Keras %s, numpy %s, pandas %s'%(tf.__version__,keras.__version__, np.__version__,pd.__version__))\n",
    "__DEBUG__=False\n"
   ]
  },
  {
   "cell_type": "markdown",
   "metadata": {},
   "source": [
    "## Paramètres ##"
   ]
  },
  {
   "cell_type": "code",
   "execution_count": 2,
   "metadata": {},
   "outputs": [],
   "source": [
    "## Structure du réseau et nombre d'epochs (nombre de fois où on passe sur le DataSet)\n",
    "num_hidden_layers=4\n",
    "first_layer_size = 128\n",
    "other_layer_size = 512\n",
    "epochs=200\n",
    "\n",
    "###Valeurs A tester dans la cross validation\n",
    "lst_init_learning_rate = [0.01,0.003, 0.1] \n",
    "lst_dropout_prob=[0.15,0.05]\n",
    "n_splits=10"
   ]
  },
  {
   "cell_type": "markdown",
   "metadata": {},
   "source": [
    "## Fonctions ##"
   ]
  },
  {
   "cell_type": "code",
   "execution_count": 3,
   "metadata": {},
   "outputs": [],
   "source": [
    "#Calcule les valeurs min/max et moyennes de chaque colonne dans lst_cols du dataframe pandas  df\n",
    "def get_columns_metadata(df, lst_cols):            \n",
    "     header_df = pd.DataFrame( data = lst_cols, columns=['var_name'])    \n",
    "     header_df['mean']=df[lst_cols].mean().values\n",
    "     header_df['min']= df[lst_cols].min().values\n",
    "     header_df['max']= df[lst_cols].max().values\n",
    "     header_df.set_index('var_name',inplace=True)\n",
    "     return header_df\n",
    "\n",
    "#Normalisation de chaque colonne du dataframe pandas  df en utilisant les valeurs de header_df\n",
    "def normalize(df,header_df):\n",
    "    for col in df.columns:        \n",
    "        if col in header_df.index : \n",
    "            valmin = header_df[\"min\"][col]\n",
    "            valmax = header_df[\"max\"][col]\n",
    "            valmoy = header_df[\"mean\"][col]\n",
    "            df[col] = 2*((df[col] - valmoy)/(valmax - valmin))\n",
    "            "
   ]
  },
  {
   "cell_type": "markdown",
   "metadata": {
    "_cell_guid": "25b1e1db-8bc5-7029-f719-91da523bd121",
    "_uuid": "5c867fcbb300bcf3c9b8986bba9949da2a2df931"
   },
   "source": [
    "## lecture des données ##"
   ]
  },
  {
   "cell_type": "code",
   "execution_count": 4,
   "metadata": {
    "_cell_guid": "2ce68358-02ec-556d-ba88-e773a50bc18b",
    "_uuid": "5ec0878acc5c7ab3903410e671c2a2c6cfeafeea"
   },
   "outputs": [
    {
     "name": "stdout",
     "output_type": "stream",
     "text": [
      "\n",
      "Train data:\n",
      "<class 'pandas.core.frame.DataFrame'>\n",
      "RangeIndex: 891 entries, 0 to 890\n",
      "Data columns (total 12 columns):\n",
      "PassengerId    891 non-null int64\n",
      "Survived       891 non-null int64\n",
      "Pclass         891 non-null int64\n",
      "Name           891 non-null object\n",
      "Sex            891 non-null object\n",
      "Age            714 non-null float64\n",
      "SibSp          891 non-null int64\n",
      "Parch          891 non-null int64\n",
      "Ticket         891 non-null object\n",
      "Fare           891 non-null float64\n",
      "Cabin          204 non-null object\n",
      "Embarked       889 non-null object\n",
      "dtypes: float64(2), int64(5), object(5)\n",
      "memory usage: 83.6+ KB\n",
      "\n",
      "Test data:\n",
      "<class 'pandas.core.frame.DataFrame'>\n",
      "RangeIndex: 418 entries, 0 to 417\n",
      "Data columns (total 11 columns):\n",
      "PassengerId    418 non-null int64\n",
      "Pclass         418 non-null int64\n",
      "Name           418 non-null object\n",
      "Sex            418 non-null object\n",
      "Age            332 non-null float64\n",
      "SibSp          418 non-null int64\n",
      "Parch          418 non-null int64\n",
      "Ticket         418 non-null object\n",
      "Fare           417 non-null float64\n",
      "Cabin          91 non-null object\n",
      "Embarked       418 non-null object\n",
      "dtypes: float64(2), int64(4), object(5)\n",
      "memory usage: 36.0+ KB\n"
     ]
    }
   ],
   "source": [
    "# La fonction pandas pd.read_csv permet de créer un objet Dataframe à partir d'un csv\n",
    "\n",
    "# Données avec labels\n",
    "train = pd.read_csv('Data/passagers.csv', header = 0, dtype={'Age': np.float64})\n",
    "# Données de tests sans label. Les prédictions de survie seront envoyées à kaggle\n",
    "test  = pd.read_csv('Data/test.csv' , header = 0, dtype={'Age': np.float64})\n",
    "# On réunit les données dans une liste (pour pouvoir boucler sur les 2 dataframes)\n",
    "full_data = [train, test]\n",
    "#On garde les passagers ID des données test, car on en aura besoin pour le fichiers résultats de kaggle (voir l'exemple gender_submission.csv)\n",
    "finalfile_index=test.PassengerId #Index des données de test pour le résultat final\n",
    "\n",
    "#La fonction info() permet de répérer les colonnes avec des valeurs nulles\n",
    "print('\\nTrain data:')\n",
    "train.info()\n",
    "print('\\nTest data:')\n",
    "test.info()"
   ]
  },
  {
   "cell_type": "markdown",
   "metadata": {
    "_cell_guid": "f9595646-65c9-6fc4-395f-0befc4d122ce",
    "_uuid": "66273d64a2548d7a88464ab2a73dbdedfbdc488b"
   },
   "source": [
    "# Analyse des données #"
   ]
  },
  {
   "cell_type": "markdown",
   "metadata": {
    "_cell_guid": "9b4c278b-aaca-e92c-ba77-b9b48379d1f1",
    "_uuid": "c2b62e14d493c270ec8df9f3af1938c479361ef3"
   },
   "source": [
    "## 1. Pclass ##\n",
    "Impact de la classe sur la Survie."
   ]
  },
  {
   "cell_type": "code",
   "execution_count": 5,
   "metadata": {
    "_cell_guid": "4680d950-cf7d-a6ae-e813-535e2247d88e",
    "_uuid": "f02533e7b85bba0cca7fcf2cc598c8da92d7646d"
   },
   "outputs": [
    {
     "name": "stdout",
     "output_type": "stream",
     "text": [
      "   Pclass  Survived\n",
      "0       1  0.629630\n",
      "1       2  0.472826\n",
      "2       3  0.242363\n"
     ]
    }
   ],
   "source": [
    "print (train[['Pclass', 'Survived']].groupby(['Pclass'], as_index=False).mean())"
   ]
  },
  {
   "cell_type": "markdown",
   "metadata": {
    "_cell_guid": "5e70f81c-d4e2-1823-f0ba-a7c9b46984ff",
    "_uuid": "3ca2394409e52b8d6c40d13b6ce557c85e4cd4fd"
   },
   "source": [
    "## 2. Sex ##\n",
    "Impact du genre sur la Survie."
   ]
  },
  {
   "cell_type": "code",
   "execution_count": 6,
   "metadata": {
    "_cell_guid": "6729681d-7915-1631-78d2-ddf3c35a424c",
    "_uuid": "2b50b53008fa018127b9d9ee2fb519347b22edcc"
   },
   "outputs": [
    {
     "name": "stdout",
     "output_type": "stream",
     "text": [
      "      Sex  Survived\n",
      "0  female  0.742038\n",
      "1    male  0.188908\n"
     ]
    }
   ],
   "source": [
    "print (train[[\"Sex\", \"Survived\"]].groupby(['Sex'], as_index=False).mean())"
   ]
  },
  {
   "cell_type": "markdown",
   "metadata": {
    "_cell_guid": "7c58b7ee-d6a1-0cc9-2346-81c47846a54a",
    "_uuid": "88185e9222c26d5d23caaeb209c18710a231b5f9"
   },
   "source": [
    "## 3. SibSp and Parch ##\n",
    "Impacte de la taille de la famille."
   ]
  },
  {
   "cell_type": "code",
   "execution_count": 7,
   "metadata": {
    "_cell_guid": "1a537f10-7cec-d0b7-8a34-fa9975655190",
    "_uuid": "ccc4a4cf7624dd4be450fd62ca3ad478d4e75696"
   },
   "outputs": [
    {
     "name": "stdout",
     "output_type": "stream",
     "text": [
      "   FamilySize  Survived\n",
      "0           1  0.303538\n",
      "1           2  0.552795\n",
      "2           3  0.578431\n",
      "3           4  0.724138\n",
      "4           5  0.200000\n",
      "5           6  0.136364\n",
      "6           7  0.333333\n",
      "7           8  0.000000\n",
      "8          11  0.000000\n"
     ]
    }
   ],
   "source": [
    "for dataset in full_data:\n",
    "    dataset['FamilySize'] = dataset['SibSp'] + dataset['Parch'] + 1\n",
    "print (train[['FamilySize', 'Survived']].groupby(['FamilySize'], as_index=False).mean())"
   ]
  },
  {
   "cell_type": "markdown",
   "metadata": {
    "_cell_guid": "e4861d3e-10db-1a23-8728-44e4d5251844",
    "_uuid": "f8d7354e5c9160a7da108726a752f7dc366cb0aa"
   },
   "source": [
    "Introduction d'une distinction sur les personnes seules"
   ]
  },
  {
   "cell_type": "code",
   "execution_count": 8,
   "metadata": {
    "_cell_guid": "8c35e945-c928-e3bc-bd9c-d6ddb287e4c9",
    "_uuid": "87f79dc0711c29f39c0db1a4f7a2e8a84c0c7edb"
   },
   "outputs": [
    {
     "name": "stdout",
     "output_type": "stream",
     "text": [
      "   IsAlone  Survived\n",
      "0        0  0.505650\n",
      "1        1  0.303538\n"
     ]
    }
   ],
   "source": [
    "for dataset in full_data:\n",
    "    dataset['IsAlone'] = 0\n",
    "    dataset.loc[dataset['FamilySize'] == 1, 'IsAlone'] = 1\n",
    "print (train[['IsAlone', 'Survived']].groupby(['IsAlone'], as_index=False).mean())"
   ]
  },
  {
   "cell_type": "markdown",
   "metadata": {
    "_cell_guid": "8aa419c0-6614-7efc-7797-97f4a5158b19",
    "_uuid": "dd18a31086cfeca6330b05f83caf3cc02f687253"
   },
   "source": [
    "## 4. Embarked ##\n",
    "Impact du Port d'embarquement sur la Survie."
   ]
  },
  {
   "cell_type": "code",
   "execution_count": 9,
   "metadata": {
    "_cell_guid": "0e70e9af-d7cc-8c40-b7d4-2643889c376d",
    "_uuid": "b4f7ccb3df98da6915bda1c7c225b905fc37845b"
   },
   "outputs": [
    {
     "name": "stdout",
     "output_type": "stream",
     "text": [
      "  Embarked  Survived\n",
      "0        C  0.553571\n",
      "1        Q  0.389610\n",
      "2        S  0.339009\n"
     ]
    }
   ],
   "source": [
    "for dataset in full_data:\n",
    "    dataset['Embarked'] = dataset['Embarked'].fillna('S')\n",
    "print (train[['Embarked', 'Survived']].groupby(['Embarked'], as_index=False).mean())"
   ]
  },
  {
   "cell_type": "markdown",
   "metadata": {
    "_cell_guid": "e08c9ee8-d6d1-99b7-38bd-f0042c18a5d9",
    "_uuid": "bbeb369d4bb1b086fcc3257218fdeeb6bcdb53c0"
   },
   "source": [
    "## 5. Fare ##\n",
    "On remplace les valeurs manquantes par la moyenne. Puis on regarde l'impact du prix du ticket"
   ]
  },
  {
   "cell_type": "code",
   "execution_count": 10,
   "metadata": {},
   "outputs": [
    {
     "name": "stdout",
     "output_type": "stream",
     "text": [
      "   CategoricalFare  Survived\n",
      "0   (-0.001, 7.91]  0.197309\n",
      "1   (7.91, 14.454]  0.303571\n",
      "2   (14.454, 31.0]  0.454955\n",
      "3  (31.0, 512.329]  0.581081\n"
     ]
    }
   ],
   "source": [
    "for dataset in full_data:\n",
    "    dataset.loc[dataset.Fare.isnull(), 'Fare'] = train['Fare'].mean()\n",
    "train['CategoricalFare'] = pd.qcut(train['Fare'], 4)\n",
    "print (train[['CategoricalFare', 'Survived']].groupby(['CategoricalFare'], as_index=False).mean())"
   ]
  },
  {
   "cell_type": "markdown",
   "metadata": {
    "_cell_guid": "ec8d1b22-a95f-9f16-77ab-7b60d2103852",
    "_uuid": "7d96d8817432fa25d8acbcb229df0bd0633b75fa"
   },
   "source": [
    "## 6. Age ##\n",
    "Pour les valeurs vides, on gnère des ages aléatoires entre (mean - std) and (mean + std).\n",
    "Ensuite on analyse l'impact"
   ]
  },
  {
   "cell_type": "code",
   "execution_count": 11,
   "metadata": {
    "_cell_guid": "b90c2870-ce5d-ae0e-a33d-59e35445500e",
    "_uuid": "2af2b56d51752be08b84dbb2684466976758faa7"
   },
   "outputs": [
    {
     "name": "stdout",
     "output_type": "stream",
     "text": [
      "   CategoricalAge  Survived\n",
      "0  (-0.001, 19.0]  0.461140\n",
      "1    (19.0, 25.0]  0.314917\n",
      "2    (25.0, 32.0]  0.386364\n",
      "3    (32.0, 40.0]  0.385057\n",
      "4    (40.0, 80.0]  0.365269\n"
     ]
    }
   ],
   "source": [
    "for dataset in full_data:\n",
    "    age_avg = dataset['Age'].mean() # Calcul de la valeur moyenne\n",
    "    age_std = dataset['Age'].std()  # Calcul de l'écart type\n",
    "    age_null_count = dataset['Age'].isnull().sum() # nombre de valuer nulle\n",
    "    \n",
    "    #On génère une valeur aléatoire pour chaque valeur nulle, puis on l'arrondit à l'entier\n",
    "    age_null_random_list = np.random.randint(age_avg - age_std, age_avg + age_std, size=age_null_count)   \n",
    "    dataset.loc[np.isnan(dataset['Age']),'Age'] = age_null_random_list    \n",
    "    dataset['Age'] = dataset['Age'].astype(int)\n",
    "\n",
    "#Impact de l'age sur le taux de survie\n",
    "train['CategoricalAge'] = pd.qcut(train['Age'],5)\n",
    "print (train[['CategoricalAge', 'Survived']].groupby(['CategoricalAge'], as_index=False).mean())\n"
   ]
  },
  {
   "cell_type": "markdown",
   "metadata": {
    "_cell_guid": "68fa2057-e27a-e252-0d1b-869c00a303ba",
    "_uuid": "52bcf7b36b8edb12d40f2a1f9e80060b55d91ad3"
   },
   "source": [
    "# Mise en Forme des données #\n",
    "### > Remplacement des données textuelles par des données numériques\n",
    "### > Suppressions des colonnes inutiles (sans impact sur la survie ou créées ci-dessus)###\n",
    "\n",
    "## ATTENTION : Il faut lancer \"Run All Above Selected Cell\" dans le menu Run pour pouvoir relancer ce bloc"
   ]
  },
  {
   "cell_type": "code",
   "execution_count": 12,
   "metadata": {
    "_cell_guid": "2502bb70-ce6f-2497-7331-7d1f80521470",
    "_uuid": "1aa110c1043f1f43c091a771abc64054a211f784"
   },
   "outputs": [
    {
     "name": "stdout",
     "output_type": "stream",
     "text": [
      "               mean  min       max\n",
      "var_name                          \n",
      "Survived   0.383838  0.0    1.0000\n",
      "Pclass     2.308642  1.0    3.0000\n",
      "Sex        0.647587  0.0    1.0000\n",
      "Age       29.637486  0.0   80.0000\n",
      "Fare      32.204208  0.0  512.3292\n",
      "Embarked   0.361392  0.0    2.0000\n",
      "IsAlone    0.602694  0.0    1.0000\n",
      "\n",
      "Train data:\n",
      "   Survived    Pclass       Sex       Age      Fare  Embarked   IsAlone\n",
      "0 -0.767677  0.691358  0.704826 -0.190937 -0.097415 -0.361392 -1.205387\n",
      "1  1.232323 -1.308642 -1.295174  0.209063  0.152555  0.638608 -1.205387\n",
      "2  1.232323  0.691358 -1.295174 -0.090937 -0.094780 -0.361392  0.794613\n",
      "3  1.232323 -1.308642 -1.295174  0.134063  0.081572 -0.361392 -1.205387\n",
      "4 -0.767677  0.691358  0.704826  0.134063 -0.094292 -0.361392  0.794613\n",
      "5 -0.767677  0.691358  0.704826 -0.290937 -0.092698  1.638608  0.794613\n",
      "6 -0.767677 -1.308642  0.704826  0.609063  0.076741 -0.361392  0.794613\n",
      "7 -0.767677  0.691358  0.704826 -0.690937 -0.043446 -0.361392 -1.205387\n",
      "8  1.232323  0.691358 -1.295174 -0.065937 -0.082255 -0.361392 -1.205387\n",
      "9  1.232323 -0.308642 -1.295174 -0.390937 -0.008328  0.638608 -1.205387\n",
      "\n",
      "Test data:\n",
      "     Pclass       Sex       Age      Fare  Embarked   IsAlone\n",
      "0  0.691358  0.704826  0.109063 -0.095154  1.638608  0.794613\n",
      "1  0.691358 -1.295174  0.434063 -0.098391 -0.361392 -1.205387\n",
      "2 -0.308642  0.704826  0.809063 -0.087899  1.638608  0.794613\n",
      "3  0.691358  0.704826 -0.065937 -0.091901 -0.361392  0.794613\n",
      "4  0.691358 -1.295174 -0.190937 -0.077750 -0.361392 -1.205387\n",
      "5  0.691358  0.704826 -0.390937 -0.089705 -0.361392  0.794613\n",
      "6  0.691358 -1.295174  0.009063 -0.095934  1.638608  0.794613\n",
      "7 -0.308642  0.704826 -0.090937 -0.012508 -0.361392 -1.205387\n",
      "8  0.691358 -1.295174 -0.290937 -0.097496  0.638608  0.794613\n",
      "9  0.691358  0.704826 -0.215937 -0.031442 -0.361392 -1.205387\n"
     ]
    }
   ],
   "source": [
    "for dataset in full_data:\n",
    "    # Traitement variable 'Sex'\n",
    "    dataset['Sex'].replace('female',0,inplace=True )\n",
    "    dataset['Sex'].replace('male',1,inplace=True)\n",
    "    \n",
    "   # Traitement variable 'Embarked'\n",
    "    dataset['Embarked'].replace('S',0,inplace=True)\n",
    "    dataset['Embarked'].replace('C',1,inplace=True)\n",
    "    dataset['Embarked'].replace('Q',2,inplace=True)    \n",
    "\n",
    "# Suppression des colonnes inutiles (Traitements différents sur Train et Test => on ne peut pas mettre ces instruction dans la boucle)\n",
    "drop_elements = ['PassengerId', 'Name', 'Ticket', 'Cabin', 'SibSp','Parch', 'FamilySize']\n",
    "train = train.drop(drop_elements, axis = 1)\n",
    "train = train.drop(['CategoricalAge', 'CategoricalFare'], axis = 1)\n",
    "\n",
    "### N'oubliez pas de mettre à jour la fonction normalize !\n",
    "header_df=get_columns_metadata(train,list(train.columns.values)) \n",
    "print(header_df)\n",
    "normalize(train,header_df)\n",
    "\n",
    "test  = test.drop(drop_elements, axis = 1)\n",
    "normalize(test,header_df)\n",
    "\n",
    "print('\\nTrain data:')\n",
    "print (train.head(10))\n",
    "print('\\nTest data:')\n",
    "print (test.head(10))"
   ]
  },
  {
   "cell_type": "markdown",
   "metadata": {},
   "source": [
    "## Création du modèle et initialisation Training ##"
   ]
  },
  {
   "cell_type": "code",
   "execution_count": 13,
   "metadata": {},
   "outputs": [],
   "source": [
    "def set_model(init_learning_rate,dropout_prob):\n",
    "    #Architecture du réseau\n",
    "    model = keras.Sequential()\n",
    "    model.add(keras.layers.Dense(first_layer_size, activation='relu'))\n",
    "    \n",
    "### Ajouter ici une ligne  pour gérer le sur-apprentissage (fait)\n",
    "    model.add(Dense(64, input_dim=64,kernel_regularizer=regularizers.l2(0.01),activity_regularizer=regularizers.l1(0.01)))\n",
    "    \n",
    "    #Couches cachées (Hidden Layers)\n",
    "    for i in range(num_hidden_layers):\n",
    "        # Adds a densely-connected layer  to the model:\n",
    "        model.add(keras.layers.Dense(other_layer_size, activation='relu'))\n",
    "### Ajouter ici une ligne  pour gérer le sur-apprentissage\n",
    "        model.add(keras.layers.Dropout(dropout_prob))        \n",
    "\n",
    "    # Couche de Sortie (avec fonction Softmax):\n",
    "    model.add(keras.layers.Dense(2, activation='softmax'))    \n",
    "    global_step = tf.Variable(0, trainable=False)\n",
    "    learning_rate = tf.train.exponential_decay(init_learning_rate, global_step,1000, 0.96, staircase=True)\n",
    "    \n",
    "\n",
    "### Ici vous pouvez essayer différents algos de descentes de gradients \n",
    "    #Définiton de l'optimizer  en charge de la Gradient Descent, de la fonction de coût et de la métrique.\n",
    "    model.compile(optimizer=tf.train.GradientDescentOptimizer(learning_rate),#RMSPropOptimizer(learning_rate), #GradientDescentOptimizer(learning_rate),AdamOptimizer\n",
    "                  loss='categorical_crossentropy',\n",
    "                  metrics=['accuracy'])\n",
    "    return model"
   ]
  },
  {
   "cell_type": "markdown",
   "metadata": {},
   "source": [
    "## Vérification du Sur-Apprentissage ##"
   ]
  },
  {
   "cell_type": "code",
   "execution_count": 19,
   "metadata": {},
   "outputs": [
    {
     "name": "stdout",
     "output_type": "stream",
     "text": [
      "('position_validation_data=', 712)\n",
      "['acc', 'loss', 'val_acc', 'val_loss']\n"
     ]
    },
    {
     "data": {
      "image/png": "[encoded data removed]",
      "text/plain": [
       "<Figure size 2880x1440 with 2 Axes>"
      ]
     },
     "metadata": {},
     "output_type": "display_data"
    }
   ],
   "source": [
    "\n",
    "###Essayez Différents jeu de paramètre pour réduire le sur-appentissage\n",
    "init_learning_rate=0.003\n",
    "dropout_prob= 0.15\n",
    "check_epochs=200\n",
    "pourcentage_validation= 0.2\n",
    "\n",
    "#A partir des données Train, on sépare features (X)  et labels \"Survived\"\n",
    "lst_col=list(train.columns.values)\n",
    "lst_col.remove('Survived')\n",
    "X=train[lst_col]\n",
    "y=train['Survived']\n",
    "\n",
    "# On calcule la position de la séparation pour une répartition 80/20\n",
    "position_validation_data=int(train.shape[0] * (1-pourcentage_validation))\n",
    "print('position_validation_data=',position_validation_data)\n",
    "\n",
    "# Construction des Features pour l'apprentissage et la validation.  Transformation du Dataframe Pandas en Numpy Array (attendu par Keras) \n",
    "X_train, X_val = X[lst_col][:position_validation_data].values, X[lst_col][position_validation_data:].values\n",
    "\n",
    "# Construction des Labels pour l'apprentissage et la validation.  Hot Encoding \n",
    "y_train, y_val = np.transpose([1-y[:position_validation_data], y[:position_validation_data]]), \\\n",
    "                  np.transpose([1-y[position_validation_data:], y[position_validation_data:]]) \n",
    "\n",
    "\n",
    "#Construction du modèle en appelant la fonction set_model\n",
    "model = set_model(init_learning_rate,dropout_prob) \n",
    "#définition d'une fonction History pour récupérer la fonction de coût et la métrique à chaque epoch.\n",
    "hist = History()\n",
    "model.fit(X_train, y_train, epochs=check_epochs, batch_size=512,validation_data=(X_val, y_val),verbose=False, callbacks=[hist])\n",
    "\n",
    "print(hist.history.keys())\n",
    "\n",
    "plt.rcParams[\"figure.figsize\"] = (40,20)\n",
    "fig, ax1 = plt.subplots()\n",
    "ax2 = ax1.twinx()\n",
    "ax1.plot(hist.history['val_loss'], color= 'g')\n",
    "ax2.plot(hist.history['loss'], color= 'b')\n",
    "ax1.set_xlabel('epochs')\n",
    "ax1.set_ylabel('Validation data Error', color='g')\n",
    "ax2.set_ylabel('Training Data Error', color='b')\n",
    "plt.show()\n",
    "                                 "
   ]
  },
  {
   "cell_type": "markdown",
   "metadata": {},
   "source": [
    "## Fonction de cross validation ##"
   ]
  },
  {
   "cell_type": "code",
   "execution_count": 15,
   "metadata": {},
   "outputs": [],
   "source": [
    "#Pour un modèle  donné, on exécute la cross validation en utilisant un objet sss sklearn StratifiedShuffleSplit\n",
    "def cv_run(model, name, sss):  \n",
    "    loop=1\n",
    "    for train_index, test_index in sss.split(X, y):\n",
    "### A vous de completer les 2 lignes ci-dessous.\n",
    "### Il faut extraire les données d'apprentissage et de test des données du dataframe train en utilisant les index renvoyé par la fonction split\n",
    "### Vous pouvez vous inspirer du code du bloc \"Vérification du Sur-Apprentissage\"\n",
    "         X_train, X_val =  X[train_index], X[test_index]    \n",
    "         y_train, y_val = np.transpose([1-y[train_index], y[train_index]]), \\\n",
    "                  np.transpose([1-y[test_index], y[test_index]])\n",
    "\n",
    "# Apprentissage et évaluation        \n",
    "    hist = History()\n",
    "    model.fit(X_train, y_train, epochs=epochs, batch_size=32,validation_data=(X_val, y_val),verbose=False, callbacks=[hist])\n",
    "    [loss, acc] = model.evaluate(X_val, y_val, batch_size=32,verbose=False)    \n",
    "\n",
    "#Ajout de la performance dans les dictionnaires \"loss_dict\" et \"acc_dict\"\n",
    "    if name in acc_dict:\n",
    "        acc_dict[name] += acc\n",
    "        loss_dict[name] += loss\n",
    "    else:\n",
    "        acc_dict[name] = acc\n",
    "        loss_dict[name] = loss\n",
    "#Affichage de l'avancement\n",
    "    print(loop,':',[loss, acc])\n",
    "    loop+=1    "
   ]
  },
  {
   "cell_type": "markdown",
   "metadata": {
    "_cell_guid": "23b55b45-572b-7276-32e7-8f7a0dcfd25e",
    "_uuid": "4caf4fa8b262c029a4f220883b4c95ed3f25c88f"
   },
   "source": [
    "## Hyperparametrage ##\n",
    "### Ce traitement va être long. Commencer par une faible valeur du paramètre epochs"
   ]
  },
  {
   "cell_type": "code",
   "execution_count": 16,
   "metadata": {
    "_cell_guid": "31ded30a-8de4-6507-e7f7-5805a0f1eaf1",
    "_uuid": "b745532338e187d58ff5ee6d961d384b2a5f7bf9",
    "scrolled": true
   },
   "outputs": [
    {
     "name": "stdout",
     "output_type": "stream",
     "text": [
      "(1, ':', [-5.299206161499024, 0.8333333359824286])\n",
      "(1, ':', [-3.2553109380933973, 0.733333338631524])\n",
      "(1, ':', [-4.3846966637505425, 0.8444444457689921])\n",
      "(1, ':', [-2.214252249399821, 0.7888888902134366])\n",
      "(1, ':', [0.4976396083831787, 0.6111111097865635])\n",
      "(1, ':', [-3.163259988360935, 0.8111111137602064])\n",
      "[['lr_0.01_do_0.15' 0.08333333359824287]\n",
      " ['lr_0.01_do_0.05' 0.0733333338631524]\n",
      " ['lr_0.003_do_0.15' 0.08444444457689922]\n",
      " ['lr_0.003_do_0.05' 0.07888888902134365]\n",
      " ['lr_0.1_do_0.15' 0.06111111097865635]\n",
      " ['lr_0.1_do_0.05' 0.08111111137602064]]\n"
     ]
    }
   ],
   "source": [
    "#Données utilisées pour la méthode split de l'objet StratifiedShuffleSplit\n",
    "X = train.values[0::, 1::]\n",
    "y = train.values[0::, 0]\n",
    "\n",
    "#Créatio d'un dictionnaire pour stocker les modèles\n",
    "model_dict={}\n",
    "\n",
    "sss = StratifiedShuffleSplit(n_splits=n_splits, test_size=0.1, random_state=0)\n",
    "\n",
    "#Créatio d'un dataframe pour logger les résultatsc\n",
    "log_cols = [\"Classifier\", \"Accuracy\"]\n",
    "log = pd.DataFrame(columns=log_cols)\n",
    "\n",
    "#Boucle sur des valeurs de init_learning_rate et de dropout_prob\n",
    "for init_learning_rate in lst_init_learning_rate:\n",
    "    for dropout_prob in  lst_dropout_prob :\n",
    "        #Initialisation des dictionnaires utilisés dans la cross validation \n",
    "        acc_dict = {}\n",
    "        loss_dict = {}\n",
    "        #Construction du nom du modèle, en fonction des paramètres\n",
    "        name=\"lr_%s_do_%s\"%(init_learning_rate,dropout_prob)\n",
    "        #Création de l'objet modèle\n",
    "        model = set_model(init_learning_rate,dropout_prob) \n",
    "        #Ajout du modèle au dico pour sélectionner le meilleur dans le suivant\n",
    "        model_dict[name]=model\n",
    "        cv_run(model, name, sss)        \n",
    "        # Calcul de la performance du modèle comme moyenne pour chaque itération dans cross-validation  \n",
    "        for clf in acc_dict:\n",
    "            acc_dict[clf] = acc_dict[clf] / n_splits\n",
    "            log_entry = pd.DataFrame([[clf, acc_dict[clf]]], columns=log_cols)\n",
    "            log = log.append(log_entry)\n",
    "print (log.values)"
   ]
  },
  {
   "cell_type": "markdown",
   "metadata": {
    "_cell_guid": "438585cf-b7ad-73ba-49aa-87688ff21233",
    "_uuid": "f9e6b51b6b3c4cf3098bbdf90f984f827c2f7fd1"
   },
   "source": [
    "# Prediction #\n",
    "Maintenant on utilise le meilleur jeu de paramètre pour faire la prédiction"
   ]
  },
  {
   "cell_type": "code",
   "execution_count": 18,
   "metadata": {},
   "outputs": [
    {
     "name": "stdout",
     "output_type": "stream",
     "text": [
      "             0\n",
      "loss -4.672444\n",
      "acc   0.831650\n",
      "Survived    126\n",
      "dtype: int64\n"
     ]
    },
    {
     "data": {
      "text/html": [
       "<div>\n",
       "<style scoped>\n",
       "    .dataframe tbody tr th:only-of-type {\n",
       "        vertical-align: middle;\n",
       "    }\n",
       "\n",
       "    .dataframe tbody tr th {\n",
       "        vertical-align: top;\n",
       "    }\n",
       "\n",
       "    .dataframe thead th {\n",
       "        text-align: right;\n",
       "    }\n",
       "</style>\n",
       "<table border=\"1\" class=\"dataframe\">\n",
       "  <thead>\n",
       "    <tr style=\"text-align: right;\">\n",
       "      <th></th>\n",
       "      <th>Survived</th>\n",
       "    </tr>\n",
       "  </thead>\n",
       "  <tbody>\n",
       "    <tr>\n",
       "      <th>count</th>\n",
       "      <td>418.000000</td>\n",
       "    </tr>\n",
       "    <tr>\n",
       "      <th>mean</th>\n",
       "      <td>0.301435</td>\n",
       "    </tr>\n",
       "    <tr>\n",
       "      <th>std</th>\n",
       "      <td>0.459431</td>\n",
       "    </tr>\n",
       "    <tr>\n",
       "      <th>min</th>\n",
       "      <td>0.000000</td>\n",
       "    </tr>\n",
       "    <tr>\n",
       "      <th>25%</th>\n",
       "      <td>0.000000</td>\n",
       "    </tr>\n",
       "    <tr>\n",
       "      <th>50%</th>\n",
       "      <td>0.000000</td>\n",
       "    </tr>\n",
       "    <tr>\n",
       "      <th>75%</th>\n",
       "      <td>1.000000</td>\n",
       "    </tr>\n",
       "    <tr>\n",
       "      <th>max</th>\n",
       "      <td>1.000000</td>\n",
       "    </tr>\n",
       "  </tbody>\n",
       "</table>\n",
       "</div>"
      ],
      "text/plain": [
       "         Survived\n",
       "count  418.000000\n",
       "mean     0.301435\n",
       "std      0.459431\n",
       "min      0.000000\n",
       "25%      0.000000\n",
       "50%      0.000000\n",
       "75%      1.000000\n",
       "max      1.000000"
      ]
     },
     "execution_count": 18,
     "metadata": {},
     "output_type": "execute_result"
    }
   ],
   "source": [
    "###A vous de completer les 3 lignes ci-dessous, sans oublier la normalisation !\n",
    "### Analyser les résultats du bloc précédent pour choisir le meilleur paramètre\n",
    "best_model = model_dict[\"lr_0.003_do_0.15\"]\n",
    "X = train.values[0::, 1::]\n",
    "y = train.values[0::, 0]\n",
    "\n",
    "y_hot = np.transpose([1-y, y])\n",
    "\n",
    "#Apprentissage sur toutes les données, avec le modèle sélectionné\n",
    "best_model.fit(X,y_hot, epochs=epochs, batch_size=32,verbose=False)\n",
    "print(pd.DataFrame(best_model.evaluate(X, y_hot, batch_size=32,verbose=False),index=model.metrics_names))\n",
    "\n",
    "#Inférence des données du fichier test et Construction du fichier à envoyer à Kaggle \n",
    "prediction=best_model.predict(test.values, batch_size=32)\n",
    "results=pd.DataFrame(np.argmax(prediction,axis=1), index = finalfile_index, columns=['Survived'])\n",
    "results.to_csv('resultats.csv')\n",
    "print(results.sum())\n",
    "results.describe()"
   ]
  }
 ],
 "metadata": {
  "_change_revision": 0,
  "_is_fork": false,
  "kernelspec": {
   "display_name": "Python 3",
   "language": "python",
   "name": "python3"
  },
  "language_info": {
   "codemirror_mode": {
    "name": "ipython",
    "version": 3
   },
   "file_extension": ".py",
   "mimetype": "text/x-python",
   "name": "python",
   "nbconvert_exporter": "python",
   "pygments_lexer": "ipython3",
   "version": "3.5.2"
  }
 },
 "nbformat": 4,
 "nbformat_minor": 2
}
